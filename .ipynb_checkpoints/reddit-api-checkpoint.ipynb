{
 "cells": [
  {
   "cell_type": "code",
   "execution_count": 4,
   "id": "831a5a9e-0c89-4586-85f8-44ad99e8b3e2",
   "metadata": {},
   "outputs": [
    {
     "name": "stdout",
     "output_type": "stream",
     "text": [
      "Note: you may need to restart the kernel to use updated packages.\n"
     ]
    },
    {
     "name": "stderr",
     "output_type": "stream",
     "text": [
      "ERROR: Could not find a version that satisfies the requirement torch==1.13.1 (from versions: 2.0.0, 2.0.1, 2.1.0, 2.1.1, 2.1.2, 2.2.0, 2.2.1)\n",
      "ERROR: No matching distribution found for torch==1.13.1\n"
     ]
    },
    {
     "name": "stdout",
     "output_type": "stream",
     "text": [
      "Note: you may need to restart the kernel to use updated packages.\n"
     ]
    },
    {
     "name": "stderr",
     "output_type": "stream",
     "text": [
      "  WARNING: The script huggingface-cli.exe is installed in 'C:\\Users\\olgakh\\AppData\\Local\\Packages\\PythonSoftwareFoundation.Python.3.11_qbz5n2kfra8p0\\LocalCache\\local-packages\\Python311\\Scripts' which is not on PATH.\n",
      "  Consider adding this directory to PATH or, if you prefer to suppress this warning, use --no-warn-script-location.\n",
      "  WARNING: The script transformers-cli.exe is installed in 'C:\\Users\\olgakh\\AppData\\Local\\Packages\\PythonSoftwareFoundation.Python.3.11_qbz5n2kfra8p0\\LocalCache\\local-packages\\Python311\\Scripts' which is not on PATH.\n",
      "  Consider adding this directory to PATH or, if you prefer to suppress this warning, use --no-warn-script-location.\n",
      "  WARNING: The script datasets-cli.exe is installed in 'C:\\Users\\olgakh\\AppData\\Local\\Packages\\PythonSoftwareFoundation.Python.3.11_qbz5n2kfra8p0\\LocalCache\\local-packages\\Python311\\Scripts' which is not on PATH.\n",
      "  Consider adding this directory to PATH or, if you prefer to suppress this warning, use --no-warn-script-location.\n",
      "\n",
      "[notice] A new release of pip is available: 23.3.1 -> 24.0\n",
      "[notice] To update, run: C:\\Users\\olgakh\\AppData\\Local\\Microsoft\\WindowsApps\\PythonSoftwareFoundation.Python.3.11_qbz5n2kfra8p0\\python.exe -m pip install --upgrade pip\n"
     ]
    }
   ],
   "source": [
    "'''%pip install --disable-pip-version-check \\\n",
    "        torch==1.13.1 \\\n",
    "        torchdata==0.5.1 --quiet\n",
    "\n",
    "%pip install \\\n",
    "        transformers==4.27.2 \\\n",
    "        datasets==2.11.0 --quiet'''"
   ]
  },
  {
   "cell_type": "code",
   "execution_count": 2,
   "id": "04fb2855-4c27-49e6-8e2c-c200bde5bdff",
   "metadata": {},
   "outputs": [
    {
     "ename": "ModuleNotFoundError",
     "evalue": "No module named 'config'",
     "output_type": "error",
     "traceback": [
      "\u001b[1;31m---------------------------------------------------------------------------\u001b[0m",
      "\u001b[1;31mModuleNotFoundError\u001b[0m                       Traceback (most recent call last)",
      "Cell \u001b[1;32mIn[2], line 1\u001b[0m\n\u001b[1;32m----> 1\u001b[0m \u001b[38;5;28;01mfrom\u001b[39;00m \u001b[38;5;21;01mconfig\u001b[39;00m \u001b[38;5;28;01mimport\u001b[39;00m reddit_client_id, reddit_client_secret, reddit_user_agent\n",
      "\u001b[1;31mModuleNotFoundError\u001b[0m: No module named 'config'"
     ]
    }
   ],
   "source": [
    "from config.py import reddit_client_id, reddit_client_secret, reddit_user_agent"
   ]
  },
  {
   "cell_type": "code",
   "execution_count": 3,
   "id": "65417753-6fe4-4074-afa0-088d7957d2ac",
   "metadata": {},
   "outputs": [
    {
     "name": "stdout",
     "output_type": "stream",
     "text": [
      "Want to be part of CC History and be one of the first people to ever receive Moons on Arbitrum One?\n",
      "Daily Crypto Discussion - March 18, 2024 (GMT+0)\n",
      "Crypto hasn't even begun to melt faces - A Market Risk Analysis - Part 2\n",
      "Moons lost their appeal when Reddit disowned them. Change my mind.\n",
      "BlackRock - The Next Move After the Bitcoin ETF\n",
      "This supercycle hasn't even started yet, these corrections are long due and shaking out paper hands\n",
      "Bitcoin market correction is just getting started - Fed rate outlook in sight\n",
      "Crypto vs Tech Stocks: Is crypto really as risky as the SEC says it is?\n",
      "The memecoin portfolio experiment. 2nd week\n",
      "DEX news: After nearly three years of development \"Bisq 2\" goes live and aims to retire \"Bisq 1\" - the longest running DEX that started trading in 2016.\n"
     ]
    }
   ],
   "source": [
    "import praw\n",
    "# Initialize the Reddit API wrapper\n",
    "reddit = praw.Reddit(client_id=reddit_client_id,\n",
    "                     client_secret=reddit_client_secret,\n",
    "                     user_agent=reddit_user_agent)\n",
    "\n",
    "# Replace 'python' with the name of the subreddit you want to pull posts from\n",
    "subreddit = reddit.subreddit('CryptoCurrency')\n",
    "\n",
    "for submission in reddit.subreddit(\"CryptoCurrency\").hot(limit=10):\n",
    "    print(submission.title)\n",
    "\n",
    "#TODO: extract headings and top level comments for top n threads (hot n?)\n",
    "#TODO: store this where? Patch as json to some store - blob?"
   ]
  },
  {
   "cell_type": "code",
   "execution_count": null,
   "id": "743148c9-5c7a-403f-b502-85a8aa18aa86",
   "metadata": {},
   "outputs": [],
   "source": [
    "#TODO: what are we extracting? Coin mentions, sentiment??"
   ]
  },
  {
   "cell_type": "code",
   "execution_count": null,
   "id": "ba5cb0e6-9d94-4637-8a87-09654dbe5b53",
   "metadata": {},
   "outputs": [],
   "source": [
    "#TODO: load the base model using tensorflow\n"
   ]
  },
  {
   "cell_type": "code",
   "execution_count": null,
   "id": "409d9b4a-087d-4363-838f-43a8da50bf4d",
   "metadata": {},
   "outputs": [],
   "source": [
    "#TODO: fine-tune or prompt engineer?"
   ]
  },
  {
   "cell_type": "code",
   "execution_count": null,
   "id": "0534544b-d097-44f1-b14d-b7e9dce784ce",
   "metadata": {},
   "outputs": [],
   "source": [
    "#TODO: use a tokenizer"
   ]
  }
 ],
 "metadata": {
  "kernelspec": {
   "display_name": "Python 3 (ipykernel)",
   "language": "python",
   "name": "python3"
  },
  "language_info": {
   "codemirror_mode": {
    "name": "ipython",
    "version": 3
   },
   "file_extension": ".py",
   "mimetype": "text/x-python",
   "name": "python",
   "nbconvert_exporter": "python",
   "pygments_lexer": "ipython3",
   "version": "3.11.8"
  }
 },
 "nbformat": 4,
 "nbformat_minor": 5
}
