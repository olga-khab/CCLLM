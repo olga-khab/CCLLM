{
 "cells": [
  {
   "cell_type": "code",
   "execution_count": 20,
   "id": "831a5a9e-0c89-4586-85f8-44ad99e8b3e2",
   "metadata": {},
   "outputs": [
    {
     "data": {
      "text/plain": [
       "'%pip install --disable-pip-version-check         torch==1.13.1         torchdata==0.5.1 --quiet\\n\\n%pip install         transformers==4.27.2         datasets==2.11.0 --quiet'"
      ]
     },
     "execution_count": 20,
     "metadata": {},
     "output_type": "execute_result"
    }
   ],
   "source": [
    "'''%pip install --disable-pip-version-check \\\n",
    "        torch==1.13.1 \\\n",
    "        torchdata==0.5.1 --quiet\n",
    "\n",
    "%pip install \\\n",
    "        transformers==4.27.2 \\\n",
    "        datasets==2.11.0 --quiet'''"
   ]
  },
  {
   "cell_type": "code",
   "execution_count": 21,
   "id": "e0ee7954-1a48-4daf-b1a8-6bc4709e3511",
   "metadata": {},
   "outputs": [
    {
     "data": {
      "text/plain": [
       "'%pip install --upgrade pip\\n%pip install --disable-pip-version-check     torch==1.13.1     torchdata==0.5.1 --quiet\\n\\n%pip install     transformers==4.27.2     datasets==2.11.0  --quiet'"
      ]
     },
     "execution_count": 21,
     "metadata": {},
     "output_type": "execute_result"
    }
   ],
   "source": [
    "'''%pip install --upgrade pip\n",
    "%pip install --disable-pip-version-check \\\n",
    "    torch==1.13.1 \\\n",
    "    torchdata==0.5.1 --quiet\n",
    "\n",
    "%pip install \\\n",
    "    transformers==4.27.2 \\\n",
    "    datasets==2.11.0  --quiet'''"
   ]
  },
  {
   "cell_type": "code",
   "execution_count": 3,
   "id": "04fb2855-4c27-49e6-8e2c-c200bde5bdff",
   "metadata": {},
   "outputs": [],
   "source": [
    "from config import reddit_client_id, reddit_client_secret, reddit_user_agent"
   ]
  },
  {
   "cell_type": "code",
   "execution_count": 4,
   "id": "65417753-6fe4-4074-afa0-088d7957d2ac",
   "metadata": {},
   "outputs": [
    {
     "name": "stdout",
     "output_type": "stream",
     "text": [
      "AMA Announcement: Unveiling the Future of Decentralized AI and Software Development with Tau Net ($AGRS) - March 25th, 6pm UTC - 1500 USDT Giveaway\n",
      "Tutorial: Bridging MOON to Arbitrum One via Celer (Celer Bridge is now live!)\n",
      "Ethereum Could Top $14,000 Next Year Alongside Bitcoin Boom: Standard Chartered\n",
      "I analyzed the Last 3 Bitcoin halvings here's what I think will happen after the 2024 halving\n",
      "Cardano Gets First Fiat-Backed Stablecoin with USDM\n",
      "Daily Crypto Discussion - March 25, 2024 (GMT+0)\n",
      "This Week in Crypto Games: 'Crypto Valleys' Blasts Off, Immutable and Polygon Plot $100M Fund\n",
      "Litecoin is breaking out of 11Y old LTC/BTC ratio downtrend, next 1W candle on 25th March 2024\n",
      "Professional Shitposting\n",
      "Skybridge Capital Founder Advises 'Act Like You're Dead With Your Bitcoin and Don't Sell' \n"
     ]
    }
   ],
   "source": [
    "import praw\n",
    "# Initialize the Reddit API wrapper\n",
    "reddit = praw.Reddit(client_id=reddit_client_id,\n",
    "                     client_secret=reddit_client_secret,\n",
    "                     user_agent=reddit_user_agent)\n",
    "\n",
    "# Replace 'python' with the name of the subreddit you want to pull posts from\n",
    "subreddit = reddit.subreddit('CryptoCurrency')\n",
    "\n",
    "for submission in reddit.subreddit(\"CryptoCurrency\").hot(limit=10):\n",
    "    print(submission.title)\n",
    "\n",
    "#TODO: extract headings and top level comments for top n threads (hot n?)\n",
    "#TODO: store this where? Patch as json to some store - blob?"
   ]
  },
  {
   "cell_type": "code",
   "execution_count": null,
   "id": "2ae9bf13",
   "metadata": {},
   "outputs": [],
   "source": [
    "'''%pip install emoji'''"
   ]
  },
  {
   "cell_type": "code",
   "execution_count": 213,
   "id": "7c639634",
   "metadata": {},
   "outputs": [
    {
     "name": "stderr",
     "output_type": "stream",
     "text": [
      "C:\\Users\\olgakh\\AppData\\Local\\Temp\\ipykernel_14216\\1999565252.py:10: DeprecationWarning: Positional arguments for 'BaseListingMixin.top' will no longer be supported in PRAW 8.\n",
      "Call this function with 'time_filter' as a keyword argument.\n",
      "  for submission in reddit.subreddit(\"CryptoCurrency\").top('day',limit=10):\n"
     ]
    }
   ],
   "source": [
    "# compile the dataset\n",
    "# convert emojis to plain text before writing to csv\n",
    "from emoji import demojize\n",
    "import re\n",
    "\n",
    "\n",
    "submissions_dataset = []\n",
    "comments_dataset = []\n",
    "\n",
    "for submission in reddit.subreddit(\"CryptoCurrency\").top('day',limit=10):\n",
    "    submissions_dataset.append([submission.id, submission.title, submission.created, submission.score])\n",
    "    for top_level_comment in submission.comments:\n",
    "            comments_dataset.append([top_level_comment.id, re.sub(r'\\s+', ' ', demojize(top_level_comment.body)), top_level_comment.created_utc, top_level_comment.score, submission.id])"
   ]
  },
  {
   "cell_type": "code",
   "execution_count": 214,
   "id": "19097228",
   "metadata": {},
   "outputs": [],
   "source": [
    "import csv\n",
    "\n",
    "submissions_filename = \"reddit_submissions_data.csv\"\n",
    "comments_filename = \"reddit_comments_data.csv\"\n",
    "\n",
    "# Define the fields and rows\n",
    "submission_fields = ['ID', 'Title', 'Unixtime', 'Upvotes']\n",
    "comment_fields = ['ID','Comment', 'Unixtime', 'Upvotes', 'SubmissionID']\n",
    "\n",
    "\n",
    "with open(submissions_filename, 'a') as csvfile:\n",
    "    # Create a writer object\n",
    "    csvwriter = csv.writer(csvfile)\n",
    "    # Write the fields and rows to the file\n",
    "    csvwriter.writerow(submission_fields)\n",
    "    csvwriter.writerows(submissions_dataset)\n",
    "    \n",
    "with open(comments_filename, 'a', encoding=\"utf-8\") as csvfile:\n",
    "    # Create a writer object\n",
    "    csvwriter = csv.writer(csvfile)\n",
    "    # Write the fields and rows to the file\n",
    "    csvwriter.writerow(comment_fields)\n",
    "    csvwriter.writerows(comments_dataset)\n"
   ]
  },
  {
   "cell_type": "code",
   "execution_count": 215,
   "id": "4ef40c31",
   "metadata": {},
   "outputs": [
    {
     "data": {
      "text/html": [
       "<div>\n",
       "<style scoped>\n",
       "    .dataframe tbody tr th:only-of-type {\n",
       "        vertical-align: middle;\n",
       "    }\n",
       "\n",
       "    .dataframe tbody tr th {\n",
       "        vertical-align: top;\n",
       "    }\n",
       "\n",
       "    .dataframe thead th {\n",
       "        text-align: right;\n",
       "    }\n",
       "</style>\n",
       "<table border=\"1\" class=\"dataframe\">\n",
       "  <thead>\n",
       "    <tr style=\"text-align: right;\">\n",
       "      <th></th>\n",
       "      <th>ID</th>\n",
       "      <th>Title</th>\n",
       "      <th>Unixtime</th>\n",
       "      <th>Upvotes</th>\n",
       "    </tr>\n",
       "  </thead>\n",
       "  <tbody>\n",
       "    <tr>\n",
       "      <th>0</th>\n",
       "      <td>1bmshtm</td>\n",
       "      <td>Ethereum Could Top $14,000 Next Year Alongside...</td>\n",
       "      <td>1.711307e+09</td>\n",
       "      <td>567</td>\n",
       "    </tr>\n",
       "    <tr>\n",
       "      <th>1</th>\n",
       "      <td>1bmkto3</td>\n",
       "      <td>Cardano Gets First Fiat-Backed Stablecoin with...</td>\n",
       "      <td>1.711287e+09</td>\n",
       "      <td>442</td>\n",
       "    </tr>\n",
       "    <tr>\n",
       "      <th>2</th>\n",
       "      <td>1bn4dun</td>\n",
       "      <td>I analyzed the Last 3 Bitcoin halvings here's ...</td>\n",
       "      <td>1.711339e+09</td>\n",
       "      <td>220</td>\n",
       "    </tr>\n",
       "    <tr>\n",
       "      <th>3</th>\n",
       "      <td>1bmih6w</td>\n",
       "      <td>Litecoin is breaking out of 11Y old LTC/BTC ra...</td>\n",
       "      <td>1.711279e+09</td>\n",
       "      <td>170</td>\n",
       "    </tr>\n",
       "    <tr>\n",
       "      <th>4</th>\n",
       "      <td>1bmiena</td>\n",
       "      <td>How to take profits so we can maximize our cry...</td>\n",
       "      <td>1.711279e+09</td>\n",
       "      <td>110</td>\n",
       "    </tr>\n",
       "    <tr>\n",
       "      <th>5</th>\n",
       "      <td>1bmj383</td>\n",
       "      <td>EU Anti-Money Laundering Laws Ban Provision of...</td>\n",
       "      <td>1.711282e+09</td>\n",
       "      <td>88</td>\n",
       "    </tr>\n",
       "    <tr>\n",
       "      <th>6</th>\n",
       "      <td>1bmqcyu</td>\n",
       "      <td>This Week in Crypto Games: 'Crypto Valleys' Bl...</td>\n",
       "      <td>1.711302e+09</td>\n",
       "      <td>80</td>\n",
       "    </tr>\n",
       "    <tr>\n",
       "      <th>7</th>\n",
       "      <td>1bmgrey</td>\n",
       "      <td>What consumer applications do you think will a...</td>\n",
       "      <td>1.711272e+09</td>\n",
       "      <td>47</td>\n",
       "    </tr>\n",
       "    <tr>\n",
       "      <th>8</th>\n",
       "      <td>1bmo4nn</td>\n",
       "      <td>The memecoin portfolio experiment. 3rd week</td>\n",
       "      <td>1.711296e+09</td>\n",
       "      <td>40</td>\n",
       "    </tr>\n",
       "    <tr>\n",
       "      <th>9</th>\n",
       "      <td>1bmi3xr</td>\n",
       "      <td>Binance charges us more than you think on FIAT...</td>\n",
       "      <td>1.711278e+09</td>\n",
       "      <td>34</td>\n",
       "    </tr>\n",
       "  </tbody>\n",
       "</table>\n",
       "</div>"
      ],
      "text/plain": [
       "        ID                                              Title      Unixtime  \\\n",
       "0  1bmshtm  Ethereum Could Top $14,000 Next Year Alongside...  1.711307e+09   \n",
       "1  1bmkto3  Cardano Gets First Fiat-Backed Stablecoin with...  1.711287e+09   \n",
       "2  1bn4dun  I analyzed the Last 3 Bitcoin halvings here's ...  1.711339e+09   \n",
       "3  1bmih6w  Litecoin is breaking out of 11Y old LTC/BTC ra...  1.711279e+09   \n",
       "4  1bmiena  How to take profits so we can maximize our cry...  1.711279e+09   \n",
       "5  1bmj383  EU Anti-Money Laundering Laws Ban Provision of...  1.711282e+09   \n",
       "6  1bmqcyu  This Week in Crypto Games: 'Crypto Valleys' Bl...  1.711302e+09   \n",
       "7  1bmgrey  What consumer applications do you think will a...  1.711272e+09   \n",
       "8  1bmo4nn        The memecoin portfolio experiment. 3rd week  1.711296e+09   \n",
       "9  1bmi3xr  Binance charges us more than you think on FIAT...  1.711278e+09   \n",
       "\n",
       "   Upvotes  \n",
       "0      567  \n",
       "1      442  \n",
       "2      220  \n",
       "3      170  \n",
       "4      110  \n",
       "5       88  \n",
       "6       80  \n",
       "7       47  \n",
       "8       40  \n",
       "9       34  "
      ]
     },
     "execution_count": 215,
     "metadata": {},
     "output_type": "execute_result"
    }
   ],
   "source": [
    "import pandas as pd\n",
    "pd.read_csv(submissions_filename)"
   ]
  },
  {
   "cell_type": "code",
   "execution_count": 216,
   "id": "c918e608",
   "metadata": {},
   "outputs": [
    {
     "data": {
      "text/html": [
       "<div>\n",
       "<style scoped>\n",
       "    .dataframe tbody tr th:only-of-type {\n",
       "        vertical-align: middle;\n",
       "    }\n",
       "\n",
       "    .dataframe tbody tr th {\n",
       "        vertical-align: top;\n",
       "    }\n",
       "\n",
       "    .dataframe thead th {\n",
       "        text-align: right;\n",
       "    }\n",
       "</style>\n",
       "<table border=\"1\" class=\"dataframe\">\n",
       "  <thead>\n",
       "    <tr style=\"text-align: right;\">\n",
       "      <th></th>\n",
       "      <th>ID</th>\n",
       "      <th>Comment</th>\n",
       "      <th>Unixtime</th>\n",
       "      <th>Upvotes</th>\n",
       "      <th>SubmissionID</th>\n",
       "    </tr>\n",
       "  </thead>\n",
       "  <tbody>\n",
       "    <tr>\n",
       "      <th>0</th>\n",
       "      <td>kwdnu7z</td>\n",
       "      <td>Ethereum [pros](/r/CryptoCurrency/comments/1bm...</td>\n",
       "      <td>1.711308e+09</td>\n",
       "      <td>1</td>\n",
       "      <td>1bmshtm</td>\n",
       "    </tr>\n",
       "    <tr>\n",
       "      <th>1</th>\n",
       "      <td>kwdqtko</td>\n",
       "      <td>Nobody knows shit</td>\n",
       "      <td>1.711309e+09</td>\n",
       "      <td>331</td>\n",
       "      <td>1bmshtm</td>\n",
       "    </tr>\n",
       "    <tr>\n",
       "      <th>2</th>\n",
       "      <td>kwdpxif</td>\n",
       "      <td>Ethereum could also top 20k. Or go back to 700...</td>\n",
       "      <td>1.711308e+09</td>\n",
       "      <td>549</td>\n",
       "      <td>1bmshtm</td>\n",
       "    </tr>\n",
       "    <tr>\n",
       "      <th>3</th>\n",
       "      <td>kwdsan3</td>\n",
       "      <td>Wtf is the point of following this sub every p...</td>\n",
       "      <td>1.711309e+09</td>\n",
       "      <td>137</td>\n",
       "      <td>1bmshtm</td>\n",
       "    </tr>\n",
       "    <tr>\n",
       "      <th>4</th>\n",
       "      <td>kwdqa7o</td>\n",
       "      <td>Could.</td>\n",
       "      <td>1.711309e+09</td>\n",
       "      <td>15</td>\n",
       "      <td>1bmshtm</td>\n",
       "    </tr>\n",
       "    <tr>\n",
       "      <th>...</th>\n",
       "      <td>...</td>\n",
       "      <td>...</td>\n",
       "      <td>...</td>\n",
       "      <td>...</td>\n",
       "      <td>...</td>\n",
       "    </tr>\n",
       "    <tr>\n",
       "      <th>411</th>\n",
       "      <td>kwfv14l</td>\n",
       "      <td>Joining the crypto gambleverse to dreaming to ...</td>\n",
       "      <td>1.711339e+09</td>\n",
       "      <td>1</td>\n",
       "      <td>1bmi3xr</td>\n",
       "    </tr>\n",
       "    <tr>\n",
       "      <th>412</th>\n",
       "      <td>kwg5z9w</td>\n",
       "      <td>yes it is spread, welcome to the world of hidd...</td>\n",
       "      <td>1.711345e+09</td>\n",
       "      <td>1</td>\n",
       "      <td>1bmi3xr</td>\n",
       "    </tr>\n",
       "    <tr>\n",
       "      <th>413</th>\n",
       "      <td>kwbqla5</td>\n",
       "      <td>Ran away from Binance the moment they stopped ...</td>\n",
       "      <td>1.711280e+09</td>\n",
       "      <td>0</td>\n",
       "      <td>1bmi3xr</td>\n",
       "    </tr>\n",
       "    <tr>\n",
       "      <th>414</th>\n",
       "      <td>kwboc7t</td>\n",
       "      <td>I had a balance of 980€ in BTC after buying 10...</td>\n",
       "      <td>1.711278e+09</td>\n",
       "      <td>-6</td>\n",
       "      <td>1bmi3xr</td>\n",
       "    </tr>\n",
       "    <tr>\n",
       "      <th>415</th>\n",
       "      <td>kwbpywk</td>\n",
       "      <td>You are lucky you can use it, your government ...</td>\n",
       "      <td>1.711279e+09</td>\n",
       "      <td>-1</td>\n",
       "      <td>1bmi3xr</td>\n",
       "    </tr>\n",
       "  </tbody>\n",
       "</table>\n",
       "<p>416 rows × 5 columns</p>\n",
       "</div>"
      ],
      "text/plain": [
       "          ID                                            Comment      Unixtime  \\\n",
       "0    kwdnu7z  Ethereum [pros](/r/CryptoCurrency/comments/1bm...  1.711308e+09   \n",
       "1    kwdqtko                                  Nobody knows shit  1.711309e+09   \n",
       "2    kwdpxif  Ethereum could also top 20k. Or go back to 700...  1.711308e+09   \n",
       "3    kwdsan3  Wtf is the point of following this sub every p...  1.711309e+09   \n",
       "4    kwdqa7o                                             Could.  1.711309e+09   \n",
       "..       ...                                                ...           ...   \n",
       "411  kwfv14l  Joining the crypto gambleverse to dreaming to ...  1.711339e+09   \n",
       "412  kwg5z9w  yes it is spread, welcome to the world of hidd...  1.711345e+09   \n",
       "413  kwbqla5  Ran away from Binance the moment they stopped ...  1.711280e+09   \n",
       "414  kwboc7t  I had a balance of 980€ in BTC after buying 10...  1.711278e+09   \n",
       "415  kwbpywk  You are lucky you can use it, your government ...  1.711279e+09   \n",
       "\n",
       "     Upvotes SubmissionID  \n",
       "0          1      1bmshtm  \n",
       "1        331      1bmshtm  \n",
       "2        549      1bmshtm  \n",
       "3        137      1bmshtm  \n",
       "4         15      1bmshtm  \n",
       "..       ...          ...  \n",
       "411        1      1bmi3xr  \n",
       "412        1      1bmi3xr  \n",
       "413        0      1bmi3xr  \n",
       "414       -6      1bmi3xr  \n",
       "415       -1      1bmi3xr  \n",
       "\n",
       "[416 rows x 5 columns]"
      ]
     },
     "execution_count": 216,
     "metadata": {},
     "output_type": "execute_result"
    }
   ],
   "source": [
    "pd.read_csv(comments_filename)"
   ]
  },
  {
   "cell_type": "markdown",
   "id": "b4698fee",
   "metadata": {},
   "source": [
    "Note: # From qualitative analysis: a comment doesn't often have multiple coins+strong sentiment associated with each one, usually it's one coin mention and discussion, it may mention other coins but the comment itself will center around one of them and only have strong sentiment associated with that one coin. Comments like \"BTC is amazing, Etherium sucks, Doge is the best\" are rare. "
   ]
  },
  {
   "cell_type": "code",
   "execution_count": null,
   "id": "743148c9-5c7a-403f-b502-85a8aa18aa86",
   "metadata": {},
   "outputs": [],
   "source": [
    "#TODO: what are we extracting? Coin mentions, sentiment??\n"
   ]
  },
  {
   "cell_type": "code",
   "execution_count": null,
   "id": "7f0738d4",
   "metadata": {},
   "outputs": [],
   "source": [
    "# TODO: BTC/Bitcoin mentions - need to map name/abbreviation to the same coin\n",
    "# Can potentially be done by the LLM\n",
    "# If not, can scrape the coinwire page and write a function to map"
   ]
  },
  {
   "cell_type": "code",
   "execution_count": 49,
   "id": "ba5cb0e6-9d94-4637-8a87-09654dbe5b53",
   "metadata": {},
   "outputs": [],
   "source": [
    "#TODO: load the base model using tensorflow\n",
    "\n",
    "# Loading the base model, the tokenizer and the config\n",
    "from datasets import load_dataset\n",
    "from transformers import AutoModelForSeq2SeqLM\n",
    "from transformers import AutoTokenizer\n",
    "from transformers import GenerationConfig"
   ]
  },
  {
   "cell_type": "code",
   "execution_count": 50,
   "id": "734dc943",
   "metadata": {},
   "outputs": [],
   "source": [
    "model_name='google/flan-t5-base'\n",
    "model = AutoModelForSeq2SeqLM.from_pretrained(model_name)\n"
   ]
  },
  {
   "cell_type": "code",
   "execution_count": 51,
   "id": "c4e1f9df",
   "metadata": {},
   "outputs": [],
   "source": [
    "# Tokenizer \n",
    "tokenizer = AutoTokenizer.from_pretrained(model_name, use_fast=True, batched = True)"
   ]
  },
  {
   "cell_type": "code",
   "execution_count": 52,
   "id": "0a65a1ea",
   "metadata": {},
   "outputs": [
    {
     "data": {
      "text/plain": [
       "T5TokenizerFast(name_or_path='google/flan-t5-base', vocab_size=32100, model_max_length=512, is_fast=True, padding_side='right', truncation_side='right', special_tokens={'eos_token': '</s>', 'unk_token': '<unk>', 'pad_token': '<pad>', 'additional_special_tokens': ['<extra_id_0>', '<extra_id_1>', '<extra_id_2>', '<extra_id_3>', '<extra_id_4>', '<extra_id_5>', '<extra_id_6>', '<extra_id_7>', '<extra_id_8>', '<extra_id_9>', '<extra_id_10>', '<extra_id_11>', '<extra_id_12>', '<extra_id_13>', '<extra_id_14>', '<extra_id_15>', '<extra_id_16>', '<extra_id_17>', '<extra_id_18>', '<extra_id_19>', '<extra_id_20>', '<extra_id_21>', '<extra_id_22>', '<extra_id_23>', '<extra_id_24>', '<extra_id_25>', '<extra_id_26>', '<extra_id_27>', '<extra_id_28>', '<extra_id_29>', '<extra_id_30>', '<extra_id_31>', '<extra_id_32>', '<extra_id_33>', '<extra_id_34>', '<extra_id_35>', '<extra_id_36>', '<extra_id_37>', '<extra_id_38>', '<extra_id_39>', '<extra_id_40>', '<extra_id_41>', '<extra_id_42>', '<extra_id_43>', '<extra_id_44>', '<extra_id_45>', '<extra_id_46>', '<extra_id_47>', '<extra_id_48>', '<extra_id_49>', '<extra_id_50>', '<extra_id_51>', '<extra_id_52>', '<extra_id_53>', '<extra_id_54>', '<extra_id_55>', '<extra_id_56>', '<extra_id_57>', '<extra_id_58>', '<extra_id_59>', '<extra_id_60>', '<extra_id_61>', '<extra_id_62>', '<extra_id_63>', '<extra_id_64>', '<extra_id_65>', '<extra_id_66>', '<extra_id_67>', '<extra_id_68>', '<extra_id_69>', '<extra_id_70>', '<extra_id_71>', '<extra_id_72>', '<extra_id_73>', '<extra_id_74>', '<extra_id_75>', '<extra_id_76>', '<extra_id_77>', '<extra_id_78>', '<extra_id_79>', '<extra_id_80>', '<extra_id_81>', '<extra_id_82>', '<extra_id_83>', '<extra_id_84>', '<extra_id_85>', '<extra_id_86>', '<extra_id_87>', '<extra_id_88>', '<extra_id_89>', '<extra_id_90>', '<extra_id_91>', '<extra_id_92>', '<extra_id_93>', '<extra_id_94>', '<extra_id_95>', '<extra_id_96>', '<extra_id_97>', '<extra_id_98>', '<extra_id_99>']})"
      ]
     },
     "execution_count": 52,
     "metadata": {},
     "output_type": "execute_result"
    }
   ],
   "source": [
    "tokenizer"
   ]
  },
  {
   "cell_type": "code",
   "execution_count": null,
   "id": "409d9b4a-087d-4363-838f-43a8da50bf4d",
   "metadata": {},
   "outputs": [],
   "source": [
    "#TODO: write a prompt\n",
    "\n",
    "prompt = f'''For a given Reddit comment, extract the Cryptocurrency the comment mentions and the sentiment associated with that cryptocurrency. \n",
    "If there are multiple Cryptocurrencies mentioned in the comment, extract the main Cryptocurrency that the commenter is focusing on.\n",
    "Classify the sentiment associated with this Cryptocurrency into positive, negative or neutral.\n",
    "\n",
    "Comment: {}'''"
   ]
  }
 ],
 "metadata": {
  "kernelspec": {
   "display_name": "Python 3 (ipykernel)",
   "language": "python",
   "name": "python3"
  },
  "language_info": {
   "codemirror_mode": {
    "name": "ipython",
    "version": 3
   },
   "file_extension": ".py",
   "mimetype": "text/x-python",
   "name": "python",
   "nbconvert_exporter": "python",
   "pygments_lexer": "ipython3",
   "version": "3.11.8"
  }
 },
 "nbformat": 4,
 "nbformat_minor": 5
}
