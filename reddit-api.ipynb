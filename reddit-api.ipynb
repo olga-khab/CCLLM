{
 "cells": [
  {
   "cell_type": "code",
   "execution_count": 20,
   "id": "831a5a9e-0c89-4586-85f8-44ad99e8b3e2",
   "metadata": {},
   "outputs": [
    {
     "data": {
      "text/plain": [
       "'%pip install --disable-pip-version-check         torch==1.13.1         torchdata==0.5.1 --quiet\\n\\n%pip install         transformers==4.27.2         datasets==2.11.0 --quiet'"
      ]
     },
     "execution_count": 20,
     "metadata": {},
     "output_type": "execute_result"
    }
   ],
   "source": [
    "'''%pip install --disable-pip-version-check \\\n",
    "        torch==1.13.1 \\\n",
    "        torchdata==0.5.1 --quiet\n",
    "\n",
    "%pip install \\\n",
    "        transformers==4.27.2 \\\n",
    "        datasets==2.11.0 --quiet'''"
   ]
  },
  {
   "cell_type": "code",
   "execution_count": 21,
   "id": "e0ee7954-1a48-4daf-b1a8-6bc4709e3511",
   "metadata": {},
   "outputs": [
    {
     "data": {
      "text/plain": [
       "'%pip install --upgrade pip\\n%pip install --disable-pip-version-check     torch==1.13.1     torchdata==0.5.1 --quiet\\n\\n%pip install     transformers==4.27.2     datasets==2.11.0  --quiet'"
      ]
     },
     "execution_count": 21,
     "metadata": {},
     "output_type": "execute_result"
    }
   ],
   "source": [
    "'''%pip install --upgrade pip\n",
    "%pip install --disable-pip-version-check \\\n",
    "    torch==1.13.1 \\\n",
    "    torchdata==0.5.1 --quiet\n",
    "\n",
    "%pip install \\\n",
    "    transformers==4.27.2 \\\n",
    "    datasets==2.11.0  --quiet'''"
   ]
  },
  {
   "cell_type": "code",
   "execution_count": 3,
   "id": "04fb2855-4c27-49e6-8e2c-c200bde5bdff",
   "metadata": {},
   "outputs": [],
   "source": [
    "from config import reddit_client_id, reddit_client_secret, reddit_user_agent"
   ]
  },
  {
   "cell_type": "code",
   "execution_count": 4,
   "id": "65417753-6fe4-4074-afa0-088d7957d2ac",
   "metadata": {},
   "outputs": [
    {
     "name": "stdout",
     "output_type": "stream",
     "text": [
      "AMA Announcement: Unveiling the Future of Decentralized AI and Software Development with Tau Net ($AGRS) - March 25th, 6pm UTC - 1500 USDT Giveaway\n",
      "Tutorial: Bridging MOON to Arbitrum One via Celer (Celer Bridge is now live!)\n",
      "Ethereum Could Top $14,000 Next Year Alongside Bitcoin Boom: Standard Chartered\n",
      "I analyzed the Last 3 Bitcoin halvings here's what I think will happen after the 2024 halving\n",
      "Cardano Gets First Fiat-Backed Stablecoin with USDM\n",
      "Daily Crypto Discussion - March 25, 2024 (GMT+0)\n",
      "This Week in Crypto Games: 'Crypto Valleys' Blasts Off, Immutable and Polygon Plot $100M Fund\n",
      "Litecoin is breaking out of 11Y old LTC/BTC ratio downtrend, next 1W candle on 25th March 2024\n",
      "Professional Shitposting\n",
      "Skybridge Capital Founder Advises 'Act Like You're Dead With Your Bitcoin and Don't Sell' \n"
     ]
    }
   ],
   "source": [
    "import praw\n",
    "# Initialize the Reddit API wrapper\n",
    "reddit = praw.Reddit(client_id=reddit_client_id,\n",
    "                     client_secret=reddit_client_secret,\n",
    "                     user_agent=reddit_user_agent)\n",
    "\n",
    "# Replace 'python' with the name of the subreddit you want to pull posts from\n",
    "subreddit = reddit.subreddit('CryptoCurrency')\n",
    "\n",
    "for submission in reddit.subreddit(\"CryptoCurrency\").hot(limit=10):\n",
    "    print(submission.title)\n",
    "\n",
    "#TODO: extract headings and top level comments for top n threads (hot n?)\n",
    "#TODO: store this where? Patch as json to some store - blob?"
   ]
  },
  {
   "cell_type": "code",
   "execution_count": null,
   "id": "2ae9bf13",
   "metadata": {},
   "outputs": [],
   "source": [
    "'''%pip install emoji'''"
   ]
  },
  {
   "cell_type": "code",
   "execution_count": 213,
   "id": "7c639634",
   "metadata": {},
   "outputs": [
    {
     "name": "stderr",
     "output_type": "stream",
     "text": [
      "C:\\Users\\olgakh\\AppData\\Local\\Temp\\ipykernel_14216\\1999565252.py:10: DeprecationWarning: Positional arguments for 'BaseListingMixin.top' will no longer be supported in PRAW 8.\n",
      "Call this function with 'time_filter' as a keyword argument.\n",
      "  for submission in reddit.subreddit(\"CryptoCurrency\").top('day',limit=10):\n"
     ]
    }
   ],
   "source": [
    "# compile the dataset\n",
    "# convert emojis to plain text before writing to csv\n",
    "from emoji import demojize\n",
    "import re\n",
    "\n",
    "\n",
    "submissions_dataset = []\n",
    "comments_dataset = []\n",
    "\n",
    "for submission in reddit.subreddit(\"CryptoCurrency\").top('day',limit=10):\n",
    "    submissions_dataset.append([submission.id, submission.title, submission.created, submission.score])\n",
    "    for top_level_comment in submission.comments:\n",
    "            comments_dataset.append([top_level_comment.id, re.sub(r'\\s+', ' ', demojize(top_level_comment.body)), top_level_comment.created_utc, top_level_comment.score, submission.id])"
   ]
  },
  {
   "cell_type": "code",
   "execution_count": 214,
   "id": "19097228",
   "metadata": {},
   "outputs": [],
   "source": [
    "import csv\n",
    "\n",
    "submissions_filename = \"reddit_submissions_data.csv\"\n",
    "comments_filename = \"reddit_comments_data.csv\"\n",
    "\n",
    "'''\n",
    "# Define the fields and rows\n",
    "# Do this the first time writing to the files\n",
    "\n",
    "submission_fields = ['ID', 'Title', 'Unixtime', 'Upvotes']\n",
    "comment_fields = ['ID','Comment', 'Unixtime', 'Upvotes', 'SubmissionID']\n",
    "'''\n",
    "\n",
    "\n",
    "with open(submissions_filename, 'a') as csvfile:\n",
    "    # Create a writer object\n",
    "    csvwriter = csv.writer(csvfile)\n",
    "    # Write the fields and rows to the file\n",
    "    #csvwriter.writerow(submission_fields)\n",
    "    csvwriter.writerows(submissions_dataset)\n",
    "    \n",
    "with open(comments_filename, 'a', encoding=\"utf-8\") as csvfile:\n",
    "    # Create a writer object\n",
    "    csvwriter = csv.writer(csvfile)\n",
    "    # Write the fields and rows to the file\n",
    "    #csvwriter.writerow(comment_fields)\n",
    "    csvwriter.writerows(comments_dataset)\n"
   ]
  },
  {
   "cell_type": "code",
   "execution_count": 219,
   "id": "4ef40c31",
   "metadata": {},
   "outputs": [],
   "source": [
    "import pandas as pd\n",
    "submissions_df = pd.read_csv(submissions_filename)"
   ]
  },
  {
   "cell_type": "code",
   "execution_count": 220,
   "id": "c918e608",
   "metadata": {},
   "outputs": [],
   "source": [
    "comments_df = pd.read_csv(comments_filename)"
   ]
  },
  {
   "cell_type": "markdown",
   "id": "b4698fee",
   "metadata": {},
   "source": [
    "Note: # From qualitative analysis: a comment doesn't often have multiple coins+strong sentiment associated with each one, usually it's one coin mention and discussion, it may mention other coins but the comment itself will center around one of them and only have strong sentiment associated with that one coin. Comments like \"BTC is amazing, Etherium sucks, Doge is the best\" are rare. "
   ]
  },
  {
   "cell_type": "code",
   "execution_count": 315,
   "id": "743148c9-5c7a-403f-b502-85a8aa18aa86",
   "metadata": {},
   "outputs": [],
   "source": [
    "# Cleaning:\n",
    "# Converted emojis to word representations, removed newlines and tabs\n",
    "# \\s on reddit means sarcasm - how to best represent this? Important for sentiment analysis\n",
    "\n",
    "# remove removed comments\n",
    "comments_df=comments_df[comments_df[\"Comment\"]!=\"[removed]\"]\n",
    "# remove admin bot disclaimer comments \n",
    "comments_df = comments_df[~comments_df[\"Comment\"].str.contains(\"\\[pros\\]\\(/r/CryptoCurrency/\")]\n",
    "\n",
    "#comments_df[\"Comment\"].str.split(expand=True).stack().value_counts()\n",
    "#comments_df[\"Comment\"].replace('\\s', '*SARCASM*')\n",
    "comments_df = comments_df.dropna(axis=0, how='any')"
   ]
  },
  {
   "cell_type": "code",
   "execution_count": 316,
   "id": "ffde54e8",
   "metadata": {},
   "outputs": [
    {
     "data": {
      "text/html": [
       "<div>\n",
       "<style scoped>\n",
       "    .dataframe tbody tr th:only-of-type {\n",
       "        vertical-align: middle;\n",
       "    }\n",
       "\n",
       "    .dataframe tbody tr th {\n",
       "        vertical-align: top;\n",
       "    }\n",
       "\n",
       "    .dataframe thead th {\n",
       "        text-align: right;\n",
       "    }\n",
       "</style>\n",
       "<table border=\"1\" class=\"dataframe\">\n",
       "  <thead>\n",
       "    <tr style=\"text-align: right;\">\n",
       "      <th></th>\n",
       "      <th>ID</th>\n",
       "      <th>Comment</th>\n",
       "      <th>Unixtime</th>\n",
       "      <th>Upvotes</th>\n",
       "      <th>SubmissionID</th>\n",
       "    </tr>\n",
       "  </thead>\n",
       "  <tbody>\n",
       "    <tr>\n",
       "      <th>1</th>\n",
       "      <td>kwdqtko</td>\n",
       "      <td>Nobody knows shit</td>\n",
       "      <td>1.711309e+09</td>\n",
       "      <td>331</td>\n",
       "      <td>1bmshtm</td>\n",
       "    </tr>\n",
       "    <tr>\n",
       "      <th>2</th>\n",
       "      <td>kwdpxif</td>\n",
       "      <td>Ethereum could also top 20k. Or go back to 700...</td>\n",
       "      <td>1.711308e+09</td>\n",
       "      <td>549</td>\n",
       "      <td>1bmshtm</td>\n",
       "    </tr>\n",
       "    <tr>\n",
       "      <th>3</th>\n",
       "      <td>kwdsan3</td>\n",
       "      <td>Wtf is the point of following this sub every p...</td>\n",
       "      <td>1.711309e+09</td>\n",
       "      <td>137</td>\n",
       "      <td>1bmshtm</td>\n",
       "    </tr>\n",
       "    <tr>\n",
       "      <th>4</th>\n",
       "      <td>kwdqa7o</td>\n",
       "      <td>Could.</td>\n",
       "      <td>1.711309e+09</td>\n",
       "      <td>15</td>\n",
       "      <td>1bmshtm</td>\n",
       "    </tr>\n",
       "    <tr>\n",
       "      <th>5</th>\n",
       "      <td>kwdv5ch</td>\n",
       "      <td>It will either go up or down says my crystal b...</td>\n",
       "      <td>1.711310e+09</td>\n",
       "      <td>37</td>\n",
       "      <td>1bmshtm</td>\n",
       "    </tr>\n",
       "    <tr>\n",
       "      <th>...</th>\n",
       "      <td>...</td>\n",
       "      <td>...</td>\n",
       "      <td>...</td>\n",
       "      <td>...</td>\n",
       "      <td>...</td>\n",
       "    </tr>\n",
       "    <tr>\n",
       "      <th>411</th>\n",
       "      <td>kwfv14l</td>\n",
       "      <td>Joining the crypto gambleverse to dreaming to ...</td>\n",
       "      <td>1.711339e+09</td>\n",
       "      <td>1</td>\n",
       "      <td>1bmi3xr</td>\n",
       "    </tr>\n",
       "    <tr>\n",
       "      <th>412</th>\n",
       "      <td>kwg5z9w</td>\n",
       "      <td>yes it is spread, welcome to the world of hidd...</td>\n",
       "      <td>1.711345e+09</td>\n",
       "      <td>1</td>\n",
       "      <td>1bmi3xr</td>\n",
       "    </tr>\n",
       "    <tr>\n",
       "      <th>413</th>\n",
       "      <td>kwbqla5</td>\n",
       "      <td>Ran away from Binance the moment they stopped ...</td>\n",
       "      <td>1.711280e+09</td>\n",
       "      <td>0</td>\n",
       "      <td>1bmi3xr</td>\n",
       "    </tr>\n",
       "    <tr>\n",
       "      <th>414</th>\n",
       "      <td>kwboc7t</td>\n",
       "      <td>I had a balance of 980€ in BTC after buying 10...</td>\n",
       "      <td>1.711278e+09</td>\n",
       "      <td>-6</td>\n",
       "      <td>1bmi3xr</td>\n",
       "    </tr>\n",
       "    <tr>\n",
       "      <th>415</th>\n",
       "      <td>kwbpywk</td>\n",
       "      <td>You are lucky you can use it, your government ...</td>\n",
       "      <td>1.711279e+09</td>\n",
       "      <td>-1</td>\n",
       "      <td>1bmi3xr</td>\n",
       "    </tr>\n",
       "  </tbody>\n",
       "</table>\n",
       "<p>406 rows × 5 columns</p>\n",
       "</div>"
      ],
      "text/plain": [
       "          ID                                            Comment      Unixtime  \\\n",
       "1    kwdqtko                                  Nobody knows shit  1.711309e+09   \n",
       "2    kwdpxif  Ethereum could also top 20k. Or go back to 700...  1.711308e+09   \n",
       "3    kwdsan3  Wtf is the point of following this sub every p...  1.711309e+09   \n",
       "4    kwdqa7o                                             Could.  1.711309e+09   \n",
       "5    kwdv5ch  It will either go up or down says my crystal b...  1.711310e+09   \n",
       "..       ...                                                ...           ...   \n",
       "411  kwfv14l  Joining the crypto gambleverse to dreaming to ...  1.711339e+09   \n",
       "412  kwg5z9w  yes it is spread, welcome to the world of hidd...  1.711345e+09   \n",
       "413  kwbqla5  Ran away from Binance the moment they stopped ...  1.711280e+09   \n",
       "414  kwboc7t  I had a balance of 980€ in BTC after buying 10...  1.711278e+09   \n",
       "415  kwbpywk  You are lucky you can use it, your government ...  1.711279e+09   \n",
       "\n",
       "     Upvotes SubmissionID  \n",
       "1        331      1bmshtm  \n",
       "2        549      1bmshtm  \n",
       "3        137      1bmshtm  \n",
       "4         15      1bmshtm  \n",
       "5         37      1bmshtm  \n",
       "..       ...          ...  \n",
       "411        1      1bmi3xr  \n",
       "412        1      1bmi3xr  \n",
       "413        0      1bmi3xr  \n",
       "414       -6      1bmi3xr  \n",
       "415       -1      1bmi3xr  \n",
       "\n",
       "[406 rows x 5 columns]"
      ]
     },
     "execution_count": 316,
     "metadata": {},
     "output_type": "execute_result"
    }
   ],
   "source": [
    "comments_df"
   ]
  },
  {
   "cell_type": "code",
   "execution_count": null,
   "id": "7f0738d4",
   "metadata": {},
   "outputs": [],
   "source": [
    "# TODO: BTC/Bitcoin mentions - need to map name/abbreviation to the same coin\n",
    "# Can potentially be done by the LLM\n",
    "# If not, can scrape the coinwire page and write a function to map"
   ]
  },
  {
   "cell_type": "code",
   "execution_count": 49,
   "id": "ba5cb0e6-9d94-4637-8a87-09654dbe5b53",
   "metadata": {},
   "outputs": [],
   "source": [
    "#TODO: load the base model using tensorflow\n",
    "\n",
    "# Loading the base model, the tokenizer and the config\n",
    "from datasets import load_dataset\n",
    "from transformers import AutoModelForSeq2SeqLM\n",
    "from transformers import AutoTokenizer\n",
    "from transformers import GenerationConfig"
   ]
  },
  {
   "cell_type": "code",
   "execution_count": 50,
   "id": "734dc943",
   "metadata": {},
   "outputs": [],
   "source": [
    "model_name='google/flan-t5-base'\n",
    "model = AutoModelForSeq2SeqLM.from_pretrained(model_name)\n"
   ]
  },
  {
   "cell_type": "code",
   "execution_count": 51,
   "id": "c4e1f9df",
   "metadata": {},
   "outputs": [],
   "source": [
    "# Tokenizer \n",
    "tokenizer = AutoTokenizer.from_pretrained(model_name, use_fast=True, batched = True)"
   ]
  },
  {
   "cell_type": "code",
   "execution_count": null,
   "id": "409d9b4a-087d-4363-838f-43a8da50bf4d",
   "metadata": {},
   "outputs": [],
   "source": [
    "#TODO: write a prompt\n",
    "\n",
    "prompt = f'''For a given Reddit comment, extract the Cryptocurrency the comment mentions and the sentiment associated with that cryptocurrency. \n",
    "If there are multiple Cryptocurrencies mentioned in the comment, extract the main Cryptocurrency that the commenter is focusing on.\n",
    "Classify the sentiment associated with this Cryptocurrency into positive, negative or neutral.\n",
    "\n",
    "Comment: {}'''"
   ]
  },
  {
   "cell_type": "code",
   "execution_count": 332,
   "id": "1b0dff2d",
   "metadata": {},
   "outputs": [
    {
     "data": {
      "text/plain": [
       "'Ethereum could also top 20k. Or go back to 700$. Or 7k. Or anything else'"
      ]
     },
     "execution_count": 332,
     "metadata": {},
     "output_type": "execute_result"
    }
   ],
   "source": [
    "comment_list = comments_df[\"Comment\"]\n",
    "example = comment_list[2]\n",
    "example"
   ]
  },
  {
   "cell_type": "code",
   "execution_count": 344,
   "id": "0f42e3ee",
   "metadata": {},
   "outputs": [
    {
     "name": "stderr",
     "output_type": "stream",
     "text": [
      "C:\\Users\\olgakh\\AppData\\Local\\Packages\\PythonSoftwareFoundation.Python.3.11_qbz5n2kfra8p0\\LocalCache\\local-packages\\Python311\\site-packages\\transformers\\generation\\utils.py:1288: UserWarning: Using `max_length`'s default (20) to control the generation length. This behaviour is deprecated and will be removed from the config in v5 of Transformers -- we recommend using `max_new_tokens` to control the maximum length of the generation.\n",
      "  warnings.warn(\n"
     ]
    },
    {
     "name": "stdout",
     "output_type": "stream",
     "text": [
      "INPUT PROMPT:\n",
      "\n",
      "Give the sentiment of the following Reddit comment.\n",
      "\n",
      "Ethereum could also top 20k. Or go back to 700$. Or 7k. Or anything else\n",
      "\n",
      "MODEL GENERATION - WITHOUT PROMPT ENGINEERING:\n",
      "negative\n",
      "\n"
     ]
    }
   ],
   "source": [
    "prompt = f\"\"\"\n",
    "Give the sentiment of the following Reddit comment.\n",
    "\n",
    "{example}\n",
    "\"\"\"\n",
    "inputs = tokenizer(prompt, return_tensors='pt')\n",
    "output = tokenizer.decode(\n",
    "    model.generate(\n",
    "        inputs['input_ids'], \n",
    "        )[0], \n",
    "        skip_special_tokens=True\n",
    ")\n",
    "    \n",
    "print(f'INPUT PROMPT:\\n{prompt}')\n",
    "print(f'MODEL GENERATION - WITHOUT PROMPT ENGINEERING:\\n{output}\\n')"
   ]
  },
  {
   "cell_type": "code",
   "execution_count": 340,
   "id": "d1f69625",
   "metadata": {},
   "outputs": [
    {
     "data": {
      "text/plain": [
       "{'input_ids': tensor([[ 6434,     8,  6493,    13,     8,   826,  1624,    26,   155,  1670,\n",
       "             5, 28516,   228,    92,   420,   460,   157,     5,   955,   281,\n",
       "           223,    12, 12283,  3229,     5,   955,   489,   157,     5,   955,\n",
       "           959,  1307,  4892,  2998,   295,    10,     3,     1]]), 'attention_mask': tensor([[1, 1, 1, 1, 1, 1, 1, 1, 1, 1, 1, 1, 1, 1, 1, 1, 1, 1, 1, 1, 1, 1, 1, 1,\n",
       "         1, 1, 1, 1, 1, 1, 1, 1, 1, 1, 1, 1, 1, 1]])}"
      ]
     },
     "execution_count": 340,
     "metadata": {},
     "output_type": "execute_result"
    }
   ],
   "source": [
    "inputs"
   ]
  }
 ],
 "metadata": {
  "kernelspec": {
   "display_name": "Python 3 (ipykernel)",
   "language": "python",
   "name": "python3"
  },
  "language_info": {
   "codemirror_mode": {
    "name": "ipython",
    "version": 3
   },
   "file_extension": ".py",
   "mimetype": "text/x-python",
   "name": "python",
   "nbconvert_exporter": "python",
   "pygments_lexer": "ipython3",
   "version": "3.11.8"
  }
 },
 "nbformat": 4,
 "nbformat_minor": 5
}
